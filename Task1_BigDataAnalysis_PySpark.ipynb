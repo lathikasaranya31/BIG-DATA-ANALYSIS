{
 "cells": [
  {
   "cell_type": "markdown",
   "id": "56398240",
   "metadata": {},
   "source": [
    "# Task 1: Big Data Analysis using PySpark\n",
    "**Internship:** CODTECH\n",
    "\n",
    "**Dataset Used:** US YouTube Trending Videos (`USvideos.csv`)\n",
    "\n",
    "This notebook demonstrates big data analysis using PySpark, including dataset loading, exploration, and deriving insights."
   ]
  },
  {
   "cell_type": "code",
   "execution_count": null,
   "id": "81c54ba3",
   "metadata": {},
   "outputs": [],
   "source": [
    "!pip install pyspark"
   ]
  },
  {
   "cell_type": "code",
   "execution_count": null,
   "id": "05aea055",
   "metadata": {},
   "outputs": [],
   "source": [
    "from pyspark.sql import SparkSession\n",
    "from pyspark.sql.functions import col, avg\n",
    "\n",
    "# Start Spark session\n",
    "spark = SparkSession.builder.appName(\"YouTubeDataAnalysis\").getOrCreate()\n"
   ]
  },
  {
   "cell_type": "code",
   "execution_count": null,
   "id": "c521b35e",
   "metadata": {},
   "outputs": [],
   "source": [
    "# Load the dataset\n",
    "df = spark.read.csv(\"USvideos.csv\", header=True, inferSchema=True)\n",
    "df.show(5)\n"
   ]
  },
  {
   "cell_type": "code",
   "execution_count": null,
   "id": "825e1de3",
   "metadata": {},
   "outputs": [],
   "source": [
    "# Print schema and row count\n",
    "df.printSchema()\n",
    "print(\"Total rows:\", df.count())\n",
    "print(\"Total columns:\", len(df.columns))\n"
   ]
  },
  {
   "cell_type": "code",
   "execution_count": null,
   "id": "a2e77bc1",
   "metadata": {},
   "outputs": [],
   "source": [
    "# Drop rows with nulls if any\n",
    "df_cleaned = df.dropna()\n",
    "print(\"Cleaned row count:\", df_cleaned.count())\n"
   ]
  },
  {
   "cell_type": "code",
   "execution_count": null,
   "id": "193a5a81",
   "metadata": {},
   "outputs": [],
   "source": [
    "# Top 5 most viewed videos\n",
    "df_cleaned.select(\"title\", \"views\").orderBy(col(\"views\").desc()).show(5)\n"
   ]
  },
  {
   "cell_type": "code",
   "execution_count": null,
   "id": "4226623d",
   "metadata": {},
   "outputs": [],
   "source": [
    "# Average likes per category\n",
    "df_cleaned.groupBy(\"category_id\").agg(avg(\"likes\").alias(\"avg_likes\")).orderBy(\"avg_likes\", ascending=False).show()\n"
   ]
  },
  {
   "cell_type": "code",
   "execution_count": null,
   "id": "540f6305",
   "metadata": {},
   "outputs": [],
   "source": [
    "# Most liked videos\n",
    "df_cleaned.select(\"title\", \"likes\").orderBy(col(\"likes\").desc()).show(5)\n"
   ]
  },
  {
   "cell_type": "code",
   "execution_count": null,
   "id": "2bc95fc4",
   "metadata": {},
   "outputs": [],
   "source": [
    "spark.stop()"
   ]
  }
 ],
 "metadata": {},
 "nbformat": 4,
 "nbformat_minor": 5
}
